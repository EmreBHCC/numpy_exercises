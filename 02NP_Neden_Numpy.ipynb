{
 "cells": [
  {
   "cell_type": "code",
   "execution_count": 1,
   "id": "b317955f-5951-470a-a9e9-f5229f1ff138",
   "metadata": {},
   "outputs": [],
   "source": [
    "import time"
   ]
  },
  {
   "cell_type": "code",
   "execution_count": 7,
   "id": "c161af7f-e318-488b-aec3-894a27fa9368",
   "metadata": {},
   "outputs": [],
   "source": [
    "import numpy as np"
   ]
  },
  {
   "cell_type": "code",
   "execution_count": 3,
   "id": "12539a91-ddb6-48dd-91b9-8c5f9f5287f6",
   "metadata": {},
   "outputs": [
    {
     "name": "stdout",
     "output_type": "stream",
     "text": [
      "Kullanılan zaman 1.389153242111206\n"
     ]
    }
   ],
   "source": [
    "z1 = time.time()\n",
    "for a in range(1_000_000):\n",
    "    kuvvet = a**100\n",
    "z2 = time.time()\n",
    "print('Kullanılan zaman', z2-z1 )"
   ]
  },
  {
   "cell_type": "code",
   "execution_count": 11,
   "id": "084ff41f-daad-49c5-aa74-655534db21b8",
   "metadata": {},
   "outputs": [
    {
     "name": "stdout",
     "output_type": "stream",
     "text": [
      "Kullanılan zaman 0.007695913314819336\n"
     ]
    }
   ],
   "source": [
    "z3 = time.time()\n",
    "\n",
    "liste2 = np.arange(1_000_000)**100\n",
    "\n",
    "z4 = time.time()\n",
    "print('Kullanılan zaman', z4-z3 )"
   ]
  },
  {
   "cell_type": "code",
   "execution_count": null,
   "id": "3bc44e9c-d475-46f4-994f-ad3056a2fef7",
   "metadata": {},
   "outputs": [],
   "source": []
  }
 ],
 "metadata": {
  "kernelspec": {
   "display_name": "Python [conda env:base] *",
   "language": "python",
   "name": "conda-base-py"
  },
  "language_info": {
   "codemirror_mode": {
    "name": "ipython",
    "version": 3
   },
   "file_extension": ".py",
   "mimetype": "text/x-python",
   "name": "python",
   "nbconvert_exporter": "python",
   "pygments_lexer": "ipython3",
   "version": "3.12.7"
  }
 },
 "nbformat": 4,
 "nbformat_minor": 5
}
