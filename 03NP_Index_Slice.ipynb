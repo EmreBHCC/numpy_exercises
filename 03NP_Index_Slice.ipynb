{
 "cells": [
  {
   "cell_type": "code",
   "execution_count": 3,
   "id": "cd098010-70a5-46c5-8a20-db22f914510f",
   "metadata": {},
   "outputs": [],
   "source": [
    "import numpy as np"
   ]
  },
  {
   "cell_type": "code",
   "execution_count": 5,
   "id": "ade10e04-aa77-4186-b4f3-8b6a5c79b6cb",
   "metadata": {},
   "outputs": [],
   "source": [
    "vektor = np.array([0,2,4,5,6,7,8,15])"
   ]
  },
  {
   "cell_type": "code",
   "execution_count": 7,
   "id": "8bf58555-3109-4628-878f-801d17465570",
   "metadata": {},
   "outputs": [
    {
     "data": {
      "text/plain": [
       "5"
      ]
     },
     "execution_count": 7,
     "metadata": {},
     "output_type": "execute_result"
    }
   ],
   "source": [
    "vektor[3]"
   ]
  },
  {
   "cell_type": "code",
   "execution_count": 9,
   "id": "5688ba06-412c-476e-9d56-780fc09adc2b",
   "metadata": {},
   "outputs": [
    {
     "data": {
      "text/plain": [
       "0"
      ]
     },
     "execution_count": 9,
     "metadata": {},
     "output_type": "execute_result"
    }
   ],
   "source": [
    "vektor[0]"
   ]
  },
  {
   "cell_type": "code",
   "execution_count": 11,
   "id": "424a3357-0890-4202-800a-3272b09c6fc7",
   "metadata": {},
   "outputs": [
    {
     "data": {
      "text/plain": [
       "15"
      ]
     },
     "execution_count": 11,
     "metadata": {},
     "output_type": "execute_result"
    }
   ],
   "source": [
    "vektor[-1]"
   ]
  },
  {
   "cell_type": "code",
   "execution_count": 13,
   "id": "4d5b73fd-5351-4d86-8215-b734dc4d31e6",
   "metadata": {},
   "outputs": [
    {
     "data": {
      "text/plain": [
       "array([2, 4])"
      ]
     },
     "execution_count": 13,
     "metadata": {},
     "output_type": "execute_result"
    }
   ],
   "source": [
    "vektor[1:3]"
   ]
  },
  {
   "cell_type": "code",
   "execution_count": 15,
   "id": "57d40f03-68c6-414a-8bc4-b1fb8526b9ce",
   "metadata": {},
   "outputs": [
    {
     "data": {
      "text/plain": [
       "array([0, 2, 4, 5, 6])"
      ]
     },
     "execution_count": 15,
     "metadata": {},
     "output_type": "execute_result"
    }
   ],
   "source": [
    "vektor[:5]"
   ]
  },
  {
   "cell_type": "code",
   "execution_count": 17,
   "id": "13770857-9a16-4506-97b5-730fb469b931",
   "metadata": {},
   "outputs": [
    {
     "data": {
      "text/plain": [
       "array([4, 6])"
      ]
     },
     "execution_count": 17,
     "metadata": {},
     "output_type": "execute_result"
    }
   ],
   "source": [
    "vektor[2:6:2]"
   ]
  },
  {
   "cell_type": "code",
   "execution_count": null,
   "id": "68e7aa3c-e835-467f-a1c0-24db6a2ab954",
   "metadata": {},
   "outputs": [],
   "source": []
  }
 ],
 "metadata": {
  "kernelspec": {
   "display_name": "Python [conda env:base] *",
   "language": "python",
   "name": "conda-base-py"
  },
  "language_info": {
   "codemirror_mode": {
    "name": "ipython",
    "version": 3
   },
   "file_extension": ".py",
   "mimetype": "text/x-python",
   "name": "python",
   "nbconvert_exporter": "python",
   "pygments_lexer": "ipython3",
   "version": "3.12.7"
  }
 },
 "nbformat": 4,
 "nbformat_minor": 5
}
