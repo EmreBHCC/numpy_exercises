{
 "cells": [
  {
   "cell_type": "code",
   "execution_count": 56,
   "id": "c8b260f9-5068-44c2-b60e-81119474435b",
   "metadata": {},
   "outputs": [],
   "source": [
    "import numpy as np"
   ]
  },
  {
   "cell_type": "code",
   "execution_count": 58,
   "id": "15ce2c3a-1a74-423f-9e90-fd45fdc33f6d",
   "metadata": {},
   "outputs": [],
   "source": [
    "vektor = np.array([1,2,3,4,5,6])"
   ]
  },
  {
   "cell_type": "code",
   "execution_count": 60,
   "id": "d5573a56-1ff1-44a7-b1c2-578bc6a683d9",
   "metadata": {},
   "outputs": [],
   "source": [
    "matris = np.array([[1,2,3],[4,5,6],[7,8,9]])"
   ]
  },
  {
   "cell_type": "code",
   "execution_count": 62,
   "id": "9eaf801e-0a3b-446f-a2ef-3f148eb4a574",
   "metadata": {},
   "outputs": [
    {
     "name": "stdout",
     "output_type": "stream",
     "text": [
      "[1 2 3 4 5 6]\n"
     ]
    }
   ],
   "source": [
    "print(vektor)"
   ]
  },
  {
   "cell_type": "code",
   "execution_count": 64,
   "id": "fb3f25b3-e613-4a5f-859f-cfacf7b66828",
   "metadata": {},
   "outputs": [
    {
     "name": "stdout",
     "output_type": "stream",
     "text": [
      "[[1 2 3]\n",
      " [4 5 6]\n",
      " [7 8 9]]\n"
     ]
    }
   ],
   "source": [
    "print(matris)"
   ]
  },
  {
   "cell_type": "code",
   "execution_count": 66,
   "id": "9f777034-31c8-4a8c-8ab9-8a132dae30d4",
   "metadata": {},
   "outputs": [
    {
     "data": {
      "text/plain": [
       "6"
      ]
     },
     "execution_count": 66,
     "metadata": {},
     "output_type": "execute_result"
    }
   ],
   "source": [
    "vektor.size"
   ]
  },
  {
   "cell_type": "code",
   "execution_count": 68,
   "id": "5b874231-3b5b-44e6-9186-e1a6c7a4cfac",
   "metadata": {},
   "outputs": [
    {
     "data": {
      "text/plain": [
       "9"
      ]
     },
     "execution_count": 68,
     "metadata": {},
     "output_type": "execute_result"
    }
   ],
   "source": [
    "matris.size"
   ]
  },
  {
   "cell_type": "code",
   "execution_count": 70,
   "id": "0a1d15b8-9cd9-47d2-b162-5e1602a4cbba",
   "metadata": {},
   "outputs": [
    {
     "data": {
      "text/plain": [
       "(6,)"
      ]
     },
     "execution_count": 70,
     "metadata": {},
     "output_type": "execute_result"
    }
   ],
   "source": [
    "vektor.shape"
   ]
  },
  {
   "cell_type": "code",
   "execution_count": 72,
   "id": "cecd04e6-28da-4998-b251-efa8e0454a79",
   "metadata": {},
   "outputs": [
    {
     "data": {
      "text/plain": [
       "(3, 3)"
      ]
     },
     "execution_count": 72,
     "metadata": {},
     "output_type": "execute_result"
    }
   ],
   "source": [
    "matris.shape"
   ]
  },
  {
   "cell_type": "code",
   "execution_count": 74,
   "id": "2adbbd08-3aff-4ce9-8392-94b9537e1522",
   "metadata": {},
   "outputs": [
    {
     "data": {
      "text/plain": [
       "1"
      ]
     },
     "execution_count": 74,
     "metadata": {},
     "output_type": "execute_result"
    }
   ],
   "source": [
    "vektor.ndim"
   ]
  },
  {
   "cell_type": "code",
   "execution_count": 76,
   "id": "5c22519d-1741-4bc8-82a7-c021618d5fa1",
   "metadata": {},
   "outputs": [
    {
     "data": {
      "text/plain": [
       "2"
      ]
     },
     "execution_count": 76,
     "metadata": {},
     "output_type": "execute_result"
    }
   ],
   "source": [
    "matris.ndim"
   ]
  },
  {
   "cell_type": "code",
   "execution_count": 78,
   "id": "04e42183-efa5-4861-aaeb-64c42442e392",
   "metadata": {},
   "outputs": [
    {
     "data": {
      "text/plain": [
       "dtype('int32')"
      ]
     },
     "execution_count": 78,
     "metadata": {},
     "output_type": "execute_result"
    }
   ],
   "source": [
    "vektor.dtype"
   ]
  },
  {
   "cell_type": "code",
   "execution_count": 80,
   "id": "ecbdc57f-4b99-49ef-9fbf-048a70512e77",
   "metadata": {},
   "outputs": [
    {
     "data": {
      "text/plain": [
       "dtype('int32')"
      ]
     },
     "execution_count": 80,
     "metadata": {},
     "output_type": "execute_result"
    }
   ],
   "source": [
    "matris.dtype"
   ]
  },
  {
   "cell_type": "code",
   "execution_count": 82,
   "id": "5a06ae7f-5b66-4647-a2ce-05376b4059de",
   "metadata": {},
   "outputs": [
    {
     "data": {
      "text/plain": [
       "numpy.ndarray"
      ]
     },
     "execution_count": 82,
     "metadata": {},
     "output_type": "execute_result"
    }
   ],
   "source": [
    "type(vektor)"
   ]
  },
  {
   "cell_type": "code",
   "execution_count": 84,
   "id": "80c96a6d-2011-4d48-b400-5099165b454b",
   "metadata": {},
   "outputs": [
    {
     "data": {
      "text/plain": [
       "numpy.ndarray"
      ]
     },
     "execution_count": 84,
     "metadata": {},
     "output_type": "execute_result"
    }
   ],
   "source": [
    "type(matris)"
   ]
  },
  {
   "cell_type": "code",
   "execution_count": null,
   "id": "2763d58e-5d23-4f2f-b8ff-645a8384979d",
   "metadata": {},
   "outputs": [],
   "source": []
  }
 ],
 "metadata": {
  "kernelspec": {
   "display_name": "Python [conda env:base] *",
   "language": "python",
   "name": "conda-base-py"
  },
  "language_info": {
   "codemirror_mode": {
    "name": "ipython",
    "version": 3
   },
   "file_extension": ".py",
   "mimetype": "text/x-python",
   "name": "python",
   "nbconvert_exporter": "python",
   "pygments_lexer": "ipython3",
   "version": "3.12.7"
  }
 },
 "nbformat": 4,
 "nbformat_minor": 5
}
