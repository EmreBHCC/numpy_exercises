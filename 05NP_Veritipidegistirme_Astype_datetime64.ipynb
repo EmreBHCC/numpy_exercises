{
 "cells": [
  {
   "cell_type": "code",
   "execution_count": 3,
   "id": "e37e9fc6-0186-4d4c-9002-3c8c5a97f897",
   "metadata": {},
   "outputs": [],
   "source": [
    "import numpy as np"
   ]
  },
  {
   "cell_type": "code",
   "execution_count": 72,
   "id": "e4060fa6-3a6c-4da9-91b9-a011c922c2a8",
   "metadata": {},
   "outputs": [
    {
     "data": {
      "text/plain": [
       "dtype('int32')"
      ]
     },
     "execution_count": 72,
     "metadata": {},
     "output_type": "execute_result"
    }
   ],
   "source": [
    "sayilar = np.array([1,2,3,4,5,6])\n",
    "sayilar.dtype"
   ]
  },
  {
   "cell_type": "code",
   "execution_count": 70,
   "id": "8026e1d3-83a0-4db7-bc58-5ec046216983",
   "metadata": {},
   "outputs": [
    {
     "data": {
      "text/plain": [
       "dtype('float64')"
      ]
     },
     "execution_count": 70,
     "metadata": {},
     "output_type": "execute_result"
    }
   ],
   "source": [
    "sayilar2 = np.array([1,2,3,4,5,6,5.0])\n",
    "sayilar2.dtype"
   ]
  },
  {
   "cell_type": "code",
   "execution_count": 68,
   "id": "82c0f5db-1dc2-4fca-a561-ba804c799f37",
   "metadata": {},
   "outputs": [
    {
     "data": {
      "text/plain": [
       "dtype('int64')"
      ]
     },
     "execution_count": 68,
     "metadata": {},
     "output_type": "execute_result"
    }
   ],
   "source": [
    "sayilar = sayilar.astype('int64')\n",
    "sayilar.dtype"
   ]
  },
  {
   "cell_type": "code",
   "execution_count": 66,
   "id": "59870a13-4962-4bde-94ec-3e5d83dabd0a",
   "metadata": {},
   "outputs": [
    {
     "data": {
      "text/plain": [
       "dtype('int8')"
      ]
     },
     "execution_count": 66,
     "metadata": {},
     "output_type": "execute_result"
    }
   ],
   "source": [
    "sayilar = sayilar.astype('int8')\n",
    "sayilar.dtype"
   ]
  },
  {
   "cell_type": "code",
   "execution_count": 64,
   "id": "abbe126a-f43f-4e2e-a3da-b3e1ca6c1723",
   "metadata": {},
   "outputs": [
    {
     "data": {
      "text/plain": [
       "dtype('int64')"
      ]
     },
     "execution_count": 64,
     "metadata": {},
     "output_type": "execute_result"
    }
   ],
   "source": [
    "sayilar3 = np.array([1,2,3,4,5,6],dtype='int64')\n",
    "sayilar3.dtype"
   ]
  },
  {
   "cell_type": "code",
   "execution_count": 62,
   "id": "eb6033d6-0796-4d1c-8e54-41a8d5257047",
   "metadata": {},
   "outputs": [
    {
     "data": {
      "text/plain": [
       "dtype('<U10')"
      ]
     },
     "execution_count": 62,
     "metadata": {},
     "output_type": "execute_result"
    }
   ],
   "source": [
    "tarih = np.array(['2023-01-01'])\n",
    "tarih.dtype"
   ]
  },
  {
   "cell_type": "code",
   "execution_count": 58,
   "id": "e81f57a9-e77c-4913-bc97-c42a9bf18053",
   "metadata": {},
   "outputs": [
    {
     "data": {
      "text/plain": [
       "dtype('<M8[D]')"
      ]
     },
     "execution_count": 58,
     "metadata": {},
     "output_type": "execute_result"
    }
   ],
   "source": [
    "tarih = tarih.astype('datetime64')\n",
    "tarih.dtype"
   ]
  },
  {
   "cell_type": "code",
   "execution_count": 60,
   "id": "c6356f19-0143-45c8-8d2d-16f3215bc46b",
   "metadata": {},
   "outputs": [
    {
     "data": {
      "text/plain": [
       "dtype('<M8[ns]')"
      ]
     },
     "execution_count": 60,
     "metadata": {},
     "output_type": "execute_result"
    }
   ],
   "source": [
    "tarih = tarih.astype('datetime64[ns]')\n",
    "tarih.dtype"
   ]
  },
  {
   "cell_type": "code",
   "execution_count": null,
   "id": "e007bfdd-b649-40c5-bcf7-758f9b07b58b",
   "metadata": {},
   "outputs": [],
   "source": []
  }
 ],
 "metadata": {
  "kernelspec": {
   "display_name": "Python [conda env:base] *",
   "language": "python",
   "name": "conda-base-py"
  },
  "language_info": {
   "codemirror_mode": {
    "name": "ipython",
    "version": 3
   },
   "file_extension": ".py",
   "mimetype": "text/x-python",
   "name": "python",
   "nbconvert_exporter": "python",
   "pygments_lexer": "ipython3",
   "version": "3.12.7"
  }
 },
 "nbformat": 4,
 "nbformat_minor": 5
}
