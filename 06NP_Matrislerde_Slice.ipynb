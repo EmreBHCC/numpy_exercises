{
 "cells": [
  {
   "cell_type": "code",
   "execution_count": 3,
   "id": "41a18ea2-ce71-4492-97f1-09a1e2488e8a",
   "metadata": {},
   "outputs": [],
   "source": [
    "import numpy as np"
   ]
  },
  {
   "cell_type": "code",
   "execution_count": 7,
   "id": "7558ae54-eb33-4554-bfb7-65e7838f3495",
   "metadata": {},
   "outputs": [],
   "source": [
    "matris = np.array([[1,2,3,4],[5,6,7,8],[9,10,11,12],[13,14,15,16]])"
   ]
  },
  {
   "cell_type": "code",
   "execution_count": 9,
   "id": "1d8eb169-363c-4146-adf4-15821724c1a0",
   "metadata": {},
   "outputs": [
    {
     "data": {
      "text/plain": [
       "array([[ 1,  2,  3,  4],\n",
       "       [ 5,  6,  7,  8],\n",
       "       [ 9, 10, 11, 12],\n",
       "       [13, 14, 15, 16]])"
      ]
     },
     "execution_count": 9,
     "metadata": {},
     "output_type": "execute_result"
    }
   ],
   "source": [
    "matris"
   ]
  },
  {
   "cell_type": "code",
   "execution_count": 11,
   "id": "f63f72f5-9be2-42b6-907c-d824910188bc",
   "metadata": {},
   "outputs": [
    {
     "data": {
      "text/plain": [
       "array([1, 2, 3, 4])"
      ]
     },
     "execution_count": 11,
     "metadata": {},
     "output_type": "execute_result"
    }
   ],
   "source": [
    "matris[0]"
   ]
  },
  {
   "cell_type": "code",
   "execution_count": 13,
   "id": "181797c9-f9ae-47b2-91aa-dadc3b6c78c7",
   "metadata": {},
   "outputs": [
    {
     "data": {
      "text/plain": [
       "array([5, 6, 7, 8])"
      ]
     },
     "execution_count": 13,
     "metadata": {},
     "output_type": "execute_result"
    }
   ],
   "source": [
    "matris[1]"
   ]
  },
  {
   "cell_type": "code",
   "execution_count": 15,
   "id": "8de4f9ba-355a-4e00-af0d-2e9a924cf3f1",
   "metadata": {},
   "outputs": [
    {
     "data": {
      "text/plain": [
       "array([[ 5,  6,  7,  8],\n",
       "       [ 9, 10, 11, 12]])"
      ]
     },
     "execution_count": 15,
     "metadata": {},
     "output_type": "execute_result"
    }
   ],
   "source": [
    "matris[1:3]"
   ]
  },
  {
   "cell_type": "code",
   "execution_count": 17,
   "id": "e7ae355e-7360-4784-aabe-a6455b1258ab",
   "metadata": {},
   "outputs": [
    {
     "data": {
      "text/plain": [
       "array([[ 1,  2,  3,  4],\n",
       "       [ 5,  6,  7,  8],\n",
       "       [ 9, 10, 11, 12],\n",
       "       [13, 14, 15, 16]])"
      ]
     },
     "execution_count": 17,
     "metadata": {},
     "output_type": "execute_result"
    }
   ],
   "source": [
    "matris"
   ]
  },
  {
   "cell_type": "code",
   "execution_count": 19,
   "id": "c5e65410-84cb-4dc2-b9fa-47b81714e9ab",
   "metadata": {},
   "outputs": [
    {
     "data": {
      "text/plain": [
       "array([1, 2, 3, 4])"
      ]
     },
     "execution_count": 19,
     "metadata": {},
     "output_type": "execute_result"
    }
   ],
   "source": [
    "matris[0,:]"
   ]
  },
  {
   "cell_type": "code",
   "execution_count": 21,
   "id": "628c0ba6-d755-4998-8d6b-98cc5d886d97",
   "metadata": {},
   "outputs": [
    {
     "data": {
      "text/plain": [
       "array([1, 2])"
      ]
     },
     "execution_count": 21,
     "metadata": {},
     "output_type": "execute_result"
    }
   ],
   "source": [
    "matris[0,:2]"
   ]
  },
  {
   "cell_type": "code",
   "execution_count": 23,
   "id": "d820380b-25ef-4fbb-96d1-020e0560ad0d",
   "metadata": {},
   "outputs": [
    {
     "data": {
      "text/plain": [
       "array([[ 1,  2,  3,  4],\n",
       "       [ 5,  6,  7,  8],\n",
       "       [ 9, 10, 11, 12],\n",
       "       [13, 14, 15, 16]])"
      ]
     },
     "execution_count": 23,
     "metadata": {},
     "output_type": "execute_result"
    }
   ],
   "source": [
    "matris"
   ]
  },
  {
   "cell_type": "code",
   "execution_count": 25,
   "id": "1a606d78-1e2f-498e-bb75-e90c3b3d45e0",
   "metadata": {},
   "outputs": [
    {
     "data": {
      "text/plain": [
       "array([[ 1],\n",
       "       [ 5],\n",
       "       [ 9],\n",
       "       [13]])"
      ]
     },
     "execution_count": 25,
     "metadata": {},
     "output_type": "execute_result"
    }
   ],
   "source": [
    "matris[0:4,0:1]"
   ]
  },
  {
   "cell_type": "code",
   "execution_count": 27,
   "id": "7c8ec362-d1ca-4552-979f-b2b3d016ec4d",
   "metadata": {},
   "outputs": [
    {
     "data": {
      "text/plain": [
       "array([[ 2,  3],\n",
       "       [ 6,  7],\n",
       "       [10, 11],\n",
       "       [14, 15]])"
      ]
     },
     "execution_count": 27,
     "metadata": {},
     "output_type": "execute_result"
    }
   ],
   "source": [
    "matris[0:4,1:3]"
   ]
  },
  {
   "cell_type": "code",
   "execution_count": 29,
   "id": "269be6a9-65ad-45af-8780-f465361f409d",
   "metadata": {},
   "outputs": [
    {
     "data": {
      "text/plain": [
       "array([[ 1,  2,  3,  4],\n",
       "       [ 5,  6,  7,  8],\n",
       "       [ 9, 10, 11, 12],\n",
       "       [13, 14, 15, 16]])"
      ]
     },
     "execution_count": 29,
     "metadata": {},
     "output_type": "execute_result"
    }
   ],
   "source": [
    "matris"
   ]
  },
  {
   "cell_type": "code",
   "execution_count": 31,
   "id": "03ab3f28-b3ef-417d-b1eb-9f56982c5b97",
   "metadata": {},
   "outputs": [
    {
     "data": {
      "text/plain": [
       "array([[ 6,  7],\n",
       "       [10, 11]])"
      ]
     },
     "execution_count": 31,
     "metadata": {},
     "output_type": "execute_result"
    }
   ],
   "source": [
    "matris[1:3,1:3]"
   ]
  },
  {
   "cell_type": "code",
   "execution_count": null,
   "id": "4422ed03-3671-4265-957d-27ec596cec57",
   "metadata": {},
   "outputs": [],
   "source": []
  }
 ],
 "metadata": {
  "kernelspec": {
   "display_name": "Python [conda env:base] *",
   "language": "python",
   "name": "conda-base-py"
  },
  "language_info": {
   "codemirror_mode": {
    "name": "ipython",
    "version": 3
   },
   "file_extension": ".py",
   "mimetype": "text/x-python",
   "name": "python",
   "nbconvert_exporter": "python",
   "pygments_lexer": "ipython3",
   "version": "3.12.7"
  }
 },
 "nbformat": 4,
 "nbformat_minor": 5
}
