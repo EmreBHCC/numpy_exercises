{
 "cells": [
  {
   "cell_type": "code",
   "execution_count": 1,
   "id": "a614f59f-6c16-4c12-85dd-ce5463dace23",
   "metadata": {},
   "outputs": [],
   "source": [
    "import numpy as np"
   ]
  },
  {
   "cell_type": "code",
   "execution_count": 4,
   "id": "8aa7c984-ac77-4056-9e4d-c19979c0e91f",
   "metadata": {},
   "outputs": [
    {
     "data": {
      "text/plain": [
       "array([0, 1, 2, 3, 4, 5, 6, 7, 8, 9])"
      ]
     },
     "execution_count": 4,
     "metadata": {},
     "output_type": "execute_result"
    }
   ],
   "source": [
    "np.arange(10)"
   ]
  },
  {
   "cell_type": "code",
   "execution_count": 6,
   "id": "af022a90-8a5f-4962-baf0-6fc9a0b5ff11",
   "metadata": {},
   "outputs": [
    {
     "data": {
      "text/plain": [
       "array([5, 6, 7, 8, 9])"
      ]
     },
     "execution_count": 6,
     "metadata": {},
     "output_type": "execute_result"
    }
   ],
   "source": [
    "np.arange(5,10)"
   ]
  },
  {
   "cell_type": "code",
   "execution_count": 24,
   "id": "01dc006f-8ebc-486e-96e0-f9fe7d281b1d",
   "metadata": {},
   "outputs": [
    {
     "data": {
      "text/plain": [
       "array([ 0.        ,  2.22222222,  4.44444444,  6.66666667,  8.88888889,\n",
       "       11.11111111, 13.33333333, 15.55555556, 17.77777778, 20.        ])"
      ]
     },
     "execution_count": 24,
     "metadata": {},
     "output_type": "execute_result"
    }
   ],
   "source": [
    "np.linspace(0,20,10) # ( ilk , son , kac esit parcaya bolunecegi )"
   ]
  },
  {
   "cell_type": "code",
   "execution_count": 26,
   "id": "81cd3bf9-4475-4f61-8d7d-b5a9edd07d51",
   "metadata": {},
   "outputs": [],
   "source": [
    "#ilk ve son eleman dahil oldugunu unutma"
   ]
  },
  {
   "cell_type": "code",
   "execution_count": 28,
   "id": "71166bb2-655f-4a53-a51d-c886f658b839",
   "metadata": {},
   "outputs": [],
   "source": [
    "bol = np.linspace(5,25,15)"
   ]
  },
  {
   "cell_type": "code",
   "execution_count": 30,
   "id": "77c7b8a0-46a7-47d0-8626-bf4cfead4f99",
   "metadata": {},
   "outputs": [
    {
     "data": {
      "text/plain": [
       "array([ 5.        ,  6.42857143,  7.85714286,  9.28571429, 10.71428571,\n",
       "       12.14285714, 13.57142857, 15.        , 16.42857143, 17.85714286,\n",
       "       19.28571429, 20.71428571, 22.14285714, 23.57142857, 25.        ])"
      ]
     },
     "execution_count": 30,
     "metadata": {},
     "output_type": "execute_result"
    }
   ],
   "source": [
    "bol"
   ]
  },
  {
   "cell_type": "code",
   "execution_count": null,
   "id": "d31aedb9-0b34-4f49-b3da-bfe4e39eddae",
   "metadata": {},
   "outputs": [],
   "source": []
  }
 ],
 "metadata": {
  "kernelspec": {
   "display_name": "Python [conda env:base] *",
   "language": "python",
   "name": "conda-base-py"
  },
  "language_info": {
   "codemirror_mode": {
    "name": "ipython",
    "version": 3
   },
   "file_extension": ".py",
   "mimetype": "text/x-python",
   "name": "python",
   "nbconvert_exporter": "python",
   "pygments_lexer": "ipython3",
   "version": "3.12.7"
  }
 },
 "nbformat": 4,
 "nbformat_minor": 5
}
