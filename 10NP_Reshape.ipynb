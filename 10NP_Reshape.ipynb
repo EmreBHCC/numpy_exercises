{
 "cells": [
  {
   "cell_type": "code",
   "execution_count": 1,
   "id": "db95ce8d-c9ee-4a56-afd9-b65f568777cf",
   "metadata": {},
   "outputs": [],
   "source": [
    "import numpy as np"
   ]
  },
  {
   "cell_type": "code",
   "execution_count": 3,
   "id": "06c226b0-a86d-4829-95f5-a5874f44b145",
   "metadata": {},
   "outputs": [],
   "source": [
    "m1 = np.array ([[1,2,3,4],[5,6,7,8],[9,10,11,12]])"
   ]
  },
  {
   "cell_type": "code",
   "execution_count": 5,
   "id": "7632d6d6-27fb-486b-bea9-060840471998",
   "metadata": {},
   "outputs": [
    {
     "data": {
      "text/plain": [
       "array([[ 1,  2,  3,  4],\n",
       "       [ 5,  6,  7,  8],\n",
       "       [ 9, 10, 11, 12]])"
      ]
     },
     "execution_count": 5,
     "metadata": {},
     "output_type": "execute_result"
    }
   ],
   "source": [
    "m1"
   ]
  },
  {
   "cell_type": "code",
   "execution_count": 7,
   "id": "340d4b32-b0f3-4849-8c07-97529adacdea",
   "metadata": {},
   "outputs": [
    {
     "data": {
      "text/plain": [
       "(3, 4)"
      ]
     },
     "execution_count": 7,
     "metadata": {},
     "output_type": "execute_result"
    }
   ],
   "source": [
    "m1.shape"
   ]
  },
  {
   "cell_type": "code",
   "execution_count": 11,
   "id": "b4c5808a-4ff4-46e8-8fe5-83a80bf31037",
   "metadata": {},
   "outputs": [
    {
     "data": {
      "text/plain": [
       "12"
      ]
     },
     "execution_count": 11,
     "metadata": {},
     "output_type": "execute_result"
    }
   ],
   "source": [
    "m1.size"
   ]
  },
  {
   "cell_type": "code",
   "execution_count": 14,
   "id": "8b13ae0b-b987-479c-b519-82126b8b28ce",
   "metadata": {},
   "outputs": [
    {
     "data": {
      "text/plain": [
       "array([[ 1,  2,  3],\n",
       "       [ 4,  5,  6],\n",
       "       [ 7,  8,  9],\n",
       "       [10, 11, 12]])"
      ]
     },
     "execution_count": 14,
     "metadata": {},
     "output_type": "execute_result"
    }
   ],
   "source": [
    "m1.reshape(4,3)"
   ]
  },
  {
   "cell_type": "code",
   "execution_count": 16,
   "id": "976794f1-ecf7-4fc2-bee9-2a67e7250e28",
   "metadata": {},
   "outputs": [
    {
     "data": {
      "text/plain": [
       "array([[ 1,  2],\n",
       "       [ 3,  4],\n",
       "       [ 5,  6],\n",
       "       [ 7,  8],\n",
       "       [ 9, 10],\n",
       "       [11, 12]])"
      ]
     },
     "execution_count": 16,
     "metadata": {},
     "output_type": "execute_result"
    }
   ],
   "source": [
    "m1.reshape(6,2)"
   ]
  },
  {
   "cell_type": "code",
   "execution_count": 18,
   "id": "d3369494-0c80-4fe1-baef-8bd9dff150ba",
   "metadata": {},
   "outputs": [
    {
     "data": {
      "text/plain": [
       "array([ 1,  2,  3,  4,  5,  6,  7,  8,  9, 10, 11, 12])"
      ]
     },
     "execution_count": 18,
     "metadata": {},
     "output_type": "execute_result"
    }
   ],
   "source": [
    "m1.reshape(12)"
   ]
  },
  {
   "cell_type": "code",
   "execution_count": 22,
   "id": "0d2560ba-8b8d-4ee4-88e1-3f07e0d3ba34",
   "metadata": {},
   "outputs": [
    {
     "data": {
      "text/plain": [
       "(12,)"
      ]
     },
     "execution_count": 22,
     "metadata": {},
     "output_type": "execute_result"
    }
   ],
   "source": [
    "m1x = m1.reshape(12)\n",
    "m1x.shape"
   ]
  },
  {
   "cell_type": "code",
   "execution_count": 26,
   "id": "33912e28-e475-4596-88b7-a0d087fdd967",
   "metadata": {},
   "outputs": [
    {
     "data": {
      "text/plain": [
       "array([[1, 0, 0, 0, 0, 1, 0, 1, 1, 0, 1, 0],\n",
       "       [0, 0, 0, 1, 1, 0, 0, 1, 1, 0, 1, 0],\n",
       "       [1, 1, 1, 1, 1, 1, 0, 1, 0, 1, 0, 1],\n",
       "       [1, 0, 0, 0, 0, 1, 1, 1, 1, 0, 0, 1]])"
      ]
     },
     "execution_count": 26,
     "metadata": {},
     "output_type": "execute_result"
    }
   ],
   "source": [
    "np.random.randint(0,2,(8,6)).reshape(4,12)"
   ]
  },
  {
   "cell_type": "code",
   "execution_count": 28,
   "id": "75790a04-c8f9-46ed-a45d-78dba3026041",
   "metadata": {},
   "outputs": [
    {
     "data": {
      "text/plain": [
       "array([[ 0.        ,  0.68965517,  1.37931034,  2.06896552,  2.75862069],\n",
       "       [ 3.44827586,  4.13793103,  4.82758621,  5.51724138,  6.20689655],\n",
       "       [ 6.89655172,  7.5862069 ,  8.27586207,  8.96551724,  9.65517241],\n",
       "       [10.34482759, 11.03448276, 11.72413793, 12.4137931 , 13.10344828],\n",
       "       [13.79310345, 14.48275862, 15.17241379, 15.86206897, 16.55172414],\n",
       "       [17.24137931, 17.93103448, 18.62068966, 19.31034483, 20.        ]])"
      ]
     },
     "execution_count": 28,
     "metadata": {},
     "output_type": "execute_result"
    }
   ],
   "source": [
    "np.linspace(0,20,30).reshape(6,5)"
   ]
  },
  {
   "cell_type": "code",
   "execution_count": null,
   "id": "6cf9e475-1cd0-4627-899f-b67392157c33",
   "metadata": {},
   "outputs": [],
   "source": []
  }
 ],
 "metadata": {
  "kernelspec": {
   "display_name": "Python [conda env:base] *",
   "language": "python",
   "name": "conda-base-py"
  },
  "language_info": {
   "codemirror_mode": {
    "name": "ipython",
    "version": 3
   },
   "file_extension": ".py",
   "mimetype": "text/x-python",
   "name": "python",
   "nbconvert_exporter": "python",
   "pygments_lexer": "ipython3",
   "version": "3.12.7"
  }
 },
 "nbformat": 4,
 "nbformat_minor": 5
}
