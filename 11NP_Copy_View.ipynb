{
 "cells": [
  {
   "cell_type": "code",
   "execution_count": 1,
   "id": "f359ac87-7260-47e5-9310-902390a75d26",
   "metadata": {},
   "outputs": [],
   "source": [
    "import numpy as np"
   ]
  },
  {
   "cell_type": "code",
   "execution_count": 3,
   "id": "76c1ccc2-c693-429e-87da-5ede1bacbb1a",
   "metadata": {},
   "outputs": [],
   "source": [
    "matris = np.random.randint(0,5,(4,4))"
   ]
  },
  {
   "cell_type": "code",
   "execution_count": 5,
   "id": "f327801d-f427-415c-b3ce-750ea1b07a04",
   "metadata": {},
   "outputs": [
    {
     "data": {
      "text/plain": [
       "array([[0, 4, 2, 1],\n",
       "       [2, 1, 0, 4],\n",
       "       [3, 1, 2, 0],\n",
       "       [2, 3, 0, 2]])"
      ]
     },
     "execution_count": 5,
     "metadata": {},
     "output_type": "execute_result"
    }
   ],
   "source": [
    "matris"
   ]
  },
  {
   "cell_type": "code",
   "execution_count": 7,
   "id": "1a641cae-aecc-4a1b-b9ba-dd6391670295",
   "metadata": {},
   "outputs": [],
   "source": [
    "matris2 = matris.view()"
   ]
  },
  {
   "cell_type": "code",
   "execution_count": 9,
   "id": "e739ad08-4b20-4a6d-9dcc-fcd7f58a8309",
   "metadata": {},
   "outputs": [
    {
     "data": {
      "text/plain": [
       "array([[0, 4, 2, 1],\n",
       "       [2, 1, 0, 4],\n",
       "       [3, 1, 2, 0],\n",
       "       [2, 3, 0, 2]])"
      ]
     },
     "execution_count": 9,
     "metadata": {},
     "output_type": "execute_result"
    }
   ],
   "source": [
    "matris2"
   ]
  },
  {
   "cell_type": "code",
   "execution_count": 11,
   "id": "49ac6ef6-203a-46a1-9396-170a9e9a36c3",
   "metadata": {},
   "outputs": [
    {
     "data": {
      "text/plain": [
       "array([0, 4, 2, 1])"
      ]
     },
     "execution_count": 11,
     "metadata": {},
     "output_type": "execute_result"
    }
   ],
   "source": [
    "matris2[0]"
   ]
  },
  {
   "cell_type": "code",
   "execution_count": 13,
   "id": "8ca3d15e-67ac-4656-800e-e175693d8c2f",
   "metadata": {},
   "outputs": [],
   "source": [
    "matris2[0] = [9,9,9,9]"
   ]
  },
  {
   "cell_type": "code",
   "execution_count": 15,
   "id": "5f293c8b-a636-41eb-8756-4547919e988b",
   "metadata": {},
   "outputs": [
    {
     "data": {
      "text/plain": [
       "array([[9, 9, 9, 9],\n",
       "       [2, 1, 0, 4],\n",
       "       [3, 1, 2, 0],\n",
       "       [2, 3, 0, 2]])"
      ]
     },
     "execution_count": 15,
     "metadata": {},
     "output_type": "execute_result"
    }
   ],
   "source": [
    "matris2"
   ]
  },
  {
   "cell_type": "code",
   "execution_count": 17,
   "id": "187b2f39-43f6-4380-82cf-9add43f95ebf",
   "metadata": {},
   "outputs": [
    {
     "data": {
      "text/plain": [
       "array([[9, 9, 9, 9],\n",
       "       [2, 1, 0, 4],\n",
       "       [3, 1, 2, 0],\n",
       "       [2, 3, 0, 2]])"
      ]
     },
     "execution_count": 17,
     "metadata": {},
     "output_type": "execute_result"
    }
   ],
   "source": [
    "matris"
   ]
  },
  {
   "cell_type": "code",
   "execution_count": 19,
   "id": "c37207fc-6168-4649-a660-bc7ec8a95c7b",
   "metadata": {},
   "outputs": [],
   "source": [
    "matris3 = np.random.randint(0,5,(4,4))"
   ]
  },
  {
   "cell_type": "code",
   "execution_count": 21,
   "id": "e03d9f40-4b63-4fcd-bfd4-b76b745166d0",
   "metadata": {},
   "outputs": [
    {
     "data": {
      "text/plain": [
       "array([[3, 4, 4, 4],\n",
       "       [3, 4, 3, 3],\n",
       "       [1, 3, 3, 0],\n",
       "       [0, 4, 0, 4]])"
      ]
     },
     "execution_count": 21,
     "metadata": {},
     "output_type": "execute_result"
    }
   ],
   "source": [
    "matris3"
   ]
  },
  {
   "cell_type": "code",
   "execution_count": 23,
   "id": "e630994a-652b-4c18-b456-f2231e97618a",
   "metadata": {},
   "outputs": [],
   "source": [
    "matris4 = matris3.copy()"
   ]
  },
  {
   "cell_type": "code",
   "execution_count": 25,
   "id": "da4ba9df-ded5-430f-96d8-2e2d8b480027",
   "metadata": {},
   "outputs": [
    {
     "data": {
      "text/plain": [
       "array([[3, 4, 4, 4],\n",
       "       [3, 4, 3, 3],\n",
       "       [1, 3, 3, 0],\n",
       "       [0, 4, 0, 4]])"
      ]
     },
     "execution_count": 25,
     "metadata": {},
     "output_type": "execute_result"
    }
   ],
   "source": [
    "matris4"
   ]
  },
  {
   "cell_type": "code",
   "execution_count": 29,
   "id": "49b7be11-ade6-43b2-b4e6-5d0146ae5c9e",
   "metadata": {},
   "outputs": [
    {
     "data": {
      "text/plain": [
       "array([3, 4, 4, 4])"
      ]
     },
     "execution_count": 29,
     "metadata": {},
     "output_type": "execute_result"
    }
   ],
   "source": [
    "matris4[0]"
   ]
  },
  {
   "cell_type": "code",
   "execution_count": 31,
   "id": "d514e263-2020-432b-a00a-693c1ca0ccc9",
   "metadata": {},
   "outputs": [],
   "source": [
    "matris4[0] = [7,7,7,7]"
   ]
  },
  {
   "cell_type": "code",
   "execution_count": 33,
   "id": "96679bdc-09fb-4615-bab3-67b521f85668",
   "metadata": {},
   "outputs": [
    {
     "data": {
      "text/plain": [
       "array([[7, 7, 7, 7],\n",
       "       [3, 4, 3, 3],\n",
       "       [1, 3, 3, 0],\n",
       "       [0, 4, 0, 4]])"
      ]
     },
     "execution_count": 33,
     "metadata": {},
     "output_type": "execute_result"
    }
   ],
   "source": [
    "matris4"
   ]
  },
  {
   "cell_type": "code",
   "execution_count": 35,
   "id": "2f966274-c547-4a3d-bd87-0b0ebc46f045",
   "metadata": {},
   "outputs": [
    {
     "data": {
      "text/plain": [
       "array([[3, 4, 4, 4],\n",
       "       [3, 4, 3, 3],\n",
       "       [1, 3, 3, 0],\n",
       "       [0, 4, 0, 4]])"
      ]
     },
     "execution_count": 35,
     "metadata": {},
     "output_type": "execute_result"
    }
   ],
   "source": [
    "matris3"
   ]
  },
  {
   "cell_type": "code",
   "execution_count": null,
   "id": "68d0b2de-2fc4-4e5d-a1be-01c83155b3f6",
   "metadata": {},
   "outputs": [],
   "source": []
  }
 ],
 "metadata": {
  "kernelspec": {
   "display_name": "Python [conda env:base] *",
   "language": "python",
   "name": "conda-base-py"
  },
  "language_info": {
   "codemirror_mode": {
    "name": "ipython",
    "version": 3
   },
   "file_extension": ".py",
   "mimetype": "text/x-python",
   "name": "python",
   "nbconvert_exporter": "python",
   "pygments_lexer": "ipython3",
   "version": "3.12.7"
  }
 },
 "nbformat": 4,
 "nbformat_minor": 5
}
