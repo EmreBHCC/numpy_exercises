{
 "cells": [
  {
   "cell_type": "code",
   "execution_count": 1,
   "id": "56e7da1d-dfa4-46d4-b1fd-419ab3dfa8b3",
   "metadata": {},
   "outputs": [],
   "source": [
    "import numpy as np"
   ]
  },
  {
   "cell_type": "code",
   "execution_count": 11,
   "id": "9eb086e6-2c64-49b7-bf05-9f54b724211f",
   "metadata": {},
   "outputs": [],
   "source": [
    "m1 = np.ones((5,5))\n",
    "m2 = np.full((5,5),19)"
   ]
  },
  {
   "cell_type": "code",
   "execution_count": 13,
   "id": "0f815fb3-0ba0-40b8-bfc7-a88a6206b783",
   "metadata": {},
   "outputs": [
    {
     "data": {
      "text/plain": [
       "(array([[1., 1., 1., 1., 1.],\n",
       "        [1., 1., 1., 1., 1.],\n",
       "        [1., 1., 1., 1., 1.],\n",
       "        [1., 1., 1., 1., 1.],\n",
       "        [1., 1., 1., 1., 1.]]),\n",
       " array([[19, 19, 19, 19, 19],\n",
       "        [19, 19, 19, 19, 19],\n",
       "        [19, 19, 19, 19, 19],\n",
       "        [19, 19, 19, 19, 19],\n",
       "        [19, 19, 19, 19, 19]]))"
      ]
     },
     "execution_count": 13,
     "metadata": {},
     "output_type": "execute_result"
    }
   ],
   "source": [
    "m1, m2"
   ]
  },
  {
   "cell_type": "code",
   "execution_count": 19,
   "id": "eb6902e7-b1d7-4a6e-8807-20a51f675f50",
   "metadata": {},
   "outputs": [],
   "source": [
    "m1 = m1.astype('int16')"
   ]
  },
  {
   "cell_type": "code",
   "execution_count": 21,
   "id": "752c2e76-7368-4c5e-8a79-787e6ed7111f",
   "metadata": {},
   "outputs": [
    {
     "data": {
      "text/plain": [
       "(array([[1, 1, 1, 1, 1],\n",
       "        [1, 1, 1, 1, 1],\n",
       "        [1, 1, 1, 1, 1],\n",
       "        [1, 1, 1, 1, 1],\n",
       "        [1, 1, 1, 1, 1]], dtype=int16),\n",
       " array([[19, 19, 19, 19, 19],\n",
       "        [19, 19, 19, 19, 19],\n",
       "        [19, 19, 19, 19, 19],\n",
       "        [19, 19, 19, 19, 19],\n",
       "        [19, 19, 19, 19, 19]]))"
      ]
     },
     "execution_count": 21,
     "metadata": {},
     "output_type": "execute_result"
    }
   ],
   "source": [
    "m1,m2"
   ]
  },
  {
   "cell_type": "code",
   "execution_count": 23,
   "id": "d1905bab-a09d-42e9-b418-11e16184b7f4",
   "metadata": {},
   "outputs": [
    {
     "data": {
      "text/plain": [
       "array([[4, 4, 4, 4, 4],\n",
       "       [4, 4, 4, 4, 4],\n",
       "       [4, 4, 4, 4, 4],\n",
       "       [4, 4, 4, 4, 4],\n",
       "       [4, 4, 4, 4, 4]], dtype=int16)"
      ]
     },
     "execution_count": 23,
     "metadata": {},
     "output_type": "execute_result"
    }
   ],
   "source": [
    "m1 *4"
   ]
  },
  {
   "cell_type": "code",
   "execution_count": 25,
   "id": "5b96a80b-a794-415d-9722-5f4966250eef",
   "metadata": {},
   "outputs": [
    {
     "data": {
      "text/plain": [
       "array([[22, 22, 22, 22, 22],\n",
       "       [22, 22, 22, 22, 22],\n",
       "       [22, 22, 22, 22, 22],\n",
       "       [22, 22, 22, 22, 22],\n",
       "       [22, 22, 22, 22, 22]])"
      ]
     },
     "execution_count": 25,
     "metadata": {},
     "output_type": "execute_result"
    }
   ],
   "source": [
    "m2 + 3"
   ]
  },
  {
   "cell_type": "code",
   "execution_count": 27,
   "id": "2f8dead0-eb1e-4aca-a300-76b6df3d86b9",
   "metadata": {},
   "outputs": [
    {
     "data": {
      "text/plain": [
       "array([[20, 20, 20, 20, 20],\n",
       "       [20, 20, 20, 20, 20],\n",
       "       [20, 20, 20, 20, 20],\n",
       "       [20, 20, 20, 20, 20],\n",
       "       [20, 20, 20, 20, 20]])"
      ]
     },
     "execution_count": 27,
     "metadata": {},
     "output_type": "execute_result"
    }
   ],
   "source": [
    "m2 + m1"
   ]
  },
  {
   "cell_type": "code",
   "execution_count": 29,
   "id": "68cc494f-c9a6-427a-ba7c-c52c41b9c309",
   "metadata": {},
   "outputs": [
    {
     "data": {
      "text/plain": [
       "array([[18, 18, 18, 18, 18],\n",
       "       [18, 18, 18, 18, 18],\n",
       "       [18, 18, 18, 18, 18],\n",
       "       [18, 18, 18, 18, 18],\n",
       "       [18, 18, 18, 18, 18]])"
      ]
     },
     "execution_count": 29,
     "metadata": {},
     "output_type": "execute_result"
    }
   ],
   "source": [
    "m2 - m1"
   ]
  },
  {
   "cell_type": "code",
   "execution_count": 31,
   "id": "7d8bb248-6bff-457a-b9d6-de54ca2f4c00",
   "metadata": {},
   "outputs": [
    {
     "data": {
      "text/plain": [
       "array([[6.33333333, 6.33333333, 6.33333333, 6.33333333, 6.33333333],\n",
       "       [6.33333333, 6.33333333, 6.33333333, 6.33333333, 6.33333333],\n",
       "       [6.33333333, 6.33333333, 6.33333333, 6.33333333, 6.33333333],\n",
       "       [6.33333333, 6.33333333, 6.33333333, 6.33333333, 6.33333333],\n",
       "       [6.33333333, 6.33333333, 6.33333333, 6.33333333, 6.33333333]])"
      ]
     },
     "execution_count": 31,
     "metadata": {},
     "output_type": "execute_result"
    }
   ],
   "source": [
    "m2 / 3"
   ]
  },
  {
   "cell_type": "code",
   "execution_count": 33,
   "id": "9ed119b9-454b-4ccc-ae1f-3f9eb3e165a3",
   "metadata": {},
   "outputs": [
    {
     "data": {
      "text/plain": [
       "array([[6, 6, 6, 6, 6],\n",
       "       [6, 6, 6, 6, 6],\n",
       "       [6, 6, 6, 6, 6],\n",
       "       [6, 6, 6, 6, 6],\n",
       "       [6, 6, 6, 6, 6]], dtype=int32)"
      ]
     },
     "execution_count": 33,
     "metadata": {},
     "output_type": "execute_result"
    }
   ],
   "source": [
    "m2 // 3"
   ]
  },
  {
   "cell_type": "code",
   "execution_count": 35,
   "id": "d659d680-5c2b-4029-857a-85c58295da91",
   "metadata": {},
   "outputs": [
    {
     "data": {
      "text/plain": [
       "array([[1, 1, 1, 1, 1],\n",
       "       [1, 1, 1, 1, 1],\n",
       "       [1, 1, 1, 1, 1],\n",
       "       [1, 1, 1, 1, 1],\n",
       "       [1, 1, 1, 1, 1]], dtype=int32)"
      ]
     },
     "execution_count": 35,
     "metadata": {},
     "output_type": "execute_result"
    }
   ],
   "source": [
    "m2 % 3"
   ]
  },
  {
   "cell_type": "code",
   "execution_count": 37,
   "id": "79c4d2ff-5c1f-4076-9651-538099994aaf",
   "metadata": {},
   "outputs": [],
   "source": [
    "m3 = np.full((5,6),2)"
   ]
  },
  {
   "cell_type": "code",
   "execution_count": 39,
   "id": "de5afe4a-cdfa-445d-a138-74c456aec7b4",
   "metadata": {},
   "outputs": [
    {
     "data": {
      "text/plain": [
       "array([[2, 2, 2, 2, 2, 2],\n",
       "       [2, 2, 2, 2, 2, 2],\n",
       "       [2, 2, 2, 2, 2, 2],\n",
       "       [2, 2, 2, 2, 2, 2],\n",
       "       [2, 2, 2, 2, 2, 2]])"
      ]
     },
     "execution_count": 39,
     "metadata": {},
     "output_type": "execute_result"
    }
   ],
   "source": [
    "m3"
   ]
  },
  {
   "cell_type": "code",
   "execution_count": 41,
   "id": "ce5d2df6-850f-415f-a28c-d1ff87ce8809",
   "metadata": {},
   "outputs": [
    {
     "data": {
      "text/plain": [
       "array([[19, 19, 19, 19, 19],\n",
       "       [19, 19, 19, 19, 19],\n",
       "       [19, 19, 19, 19, 19],\n",
       "       [19, 19, 19, 19, 19],\n",
       "       [19, 19, 19, 19, 19]])"
      ]
     },
     "execution_count": 41,
     "metadata": {},
     "output_type": "execute_result"
    }
   ],
   "source": [
    "m2"
   ]
  },
  {
   "cell_type": "code",
   "execution_count": 43,
   "id": "7d37f8a5-7a28-4d7c-8c8a-e75ca2605afc",
   "metadata": {},
   "outputs": [
    {
     "data": {
      "text/plain": [
       "(5, 6)"
      ]
     },
     "execution_count": 43,
     "metadata": {},
     "output_type": "execute_result"
    }
   ],
   "source": [
    "m3.shape"
   ]
  },
  {
   "cell_type": "code",
   "execution_count": 45,
   "id": "80130b72-dd9f-4a9b-b1df-5266a8924aba",
   "metadata": {},
   "outputs": [
    {
     "data": {
      "text/plain": [
       "(5, 5)"
      ]
     },
     "execution_count": 45,
     "metadata": {},
     "output_type": "execute_result"
    }
   ],
   "source": [
    "m2.shape"
   ]
  },
  {
   "cell_type": "code",
   "execution_count": 49,
   "id": "37282408-b91b-4b62-9130-0e4dc2621ec6",
   "metadata": {},
   "outputs": [
    {
     "ename": "ValueError",
     "evalue": "operands could not be broadcast together with shapes (5,5) (5,6) ",
     "output_type": "error",
     "traceback": [
      "\u001b[1;31m---------------------------------------------------------------------------\u001b[0m",
      "\u001b[1;31mValueError\u001b[0m                                Traceback (most recent call last)",
      "Cell \u001b[1;32mIn[49], line 1\u001b[0m\n\u001b[1;32m----> 1\u001b[0m m2 \u001b[38;5;241m+\u001b[39m m3\n",
      "\u001b[1;31mValueError\u001b[0m: operands could not be broadcast together with shapes (5,5) (5,6) "
     ]
    }
   ],
   "source": [
    "m2 + m3 # boyut farki"
   ]
  },
  {
   "cell_type": "code",
   "execution_count": 52,
   "id": "bbbb2a80-cec3-41b5-8b72-c7547bc123fe",
   "metadata": {},
   "outputs": [
    {
     "ename": "ValueError",
     "evalue": "cannot reshape array of size 30 into shape (1,)",
     "output_type": "error",
     "traceback": [
      "\u001b[1;31m---------------------------------------------------------------------------\u001b[0m",
      "\u001b[1;31mValueError\u001b[0m                                Traceback (most recent call last)",
      "Cell \u001b[1;32mIn[52], line 1\u001b[0m\n\u001b[1;32m----> 1\u001b[0m m3\u001b[38;5;241m.\u001b[39mreshape(\u001b[38;5;241m1\u001b[39m,)\n",
      "\u001b[1;31mValueError\u001b[0m: cannot reshape array of size 30 into shape (1,)"
     ]
    }
   ],
   "source": [
    "m3.reshape(1,)"
   ]
  },
  {
   "cell_type": "code",
   "execution_count": 54,
   "id": "9b2d5863-25e6-49a4-89db-580ce739f818",
   "metadata": {},
   "outputs": [
    {
     "data": {
      "text/plain": [
       "array([2, 2, 2, 2, 2, 2, 2, 2, 2, 2, 2, 2, 2, 2, 2, 2, 2, 2, 2, 2, 2, 2,\n",
       "       2, 2, 2, 2, 2, 2, 2, 2])"
      ]
     },
     "execution_count": 54,
     "metadata": {},
     "output_type": "execute_result"
    }
   ],
   "source": [
    "m3.reshape(30)"
   ]
  },
  {
   "cell_type": "code",
   "execution_count": 58,
   "id": "c617f39e-938d-4338-bb01-be7501ffa9c7",
   "metadata": {},
   "outputs": [],
   "source": [
    "m4 = m3.reshape(30)[:25].reshape(5,5)"
   ]
  },
  {
   "cell_type": "code",
   "execution_count": 60,
   "id": "0356b270-fc86-4955-b1ba-b80ab616e3e9",
   "metadata": {},
   "outputs": [
    {
     "data": {
      "text/plain": [
       "array([[2, 2, 2, 2, 2],\n",
       "       [2, 2, 2, 2, 2],\n",
       "       [2, 2, 2, 2, 2],\n",
       "       [2, 2, 2, 2, 2],\n",
       "       [2, 2, 2, 2, 2]])"
      ]
     },
     "execution_count": 60,
     "metadata": {},
     "output_type": "execute_result"
    }
   ],
   "source": [
    "m4"
   ]
  },
  {
   "cell_type": "code",
   "execution_count": 62,
   "id": "373350cf-7a1d-42e6-8a54-5ea56ba81c6d",
   "metadata": {},
   "outputs": [
    {
     "data": {
      "text/plain": [
       "array([[21, 21, 21, 21, 21],\n",
       "       [21, 21, 21, 21, 21],\n",
       "       [21, 21, 21, 21, 21],\n",
       "       [21, 21, 21, 21, 21],\n",
       "       [21, 21, 21, 21, 21]])"
      ]
     },
     "execution_count": 62,
     "metadata": {},
     "output_type": "execute_result"
    }
   ],
   "source": [
    "m4 + m2"
   ]
  },
  {
   "cell_type": "code",
   "execution_count": 68,
   "id": "8fe39b4b-4658-49fd-996a-a3ffd4876138",
   "metadata": {},
   "outputs": [],
   "source": [
    "m1[0] = m1[0] * 3"
   ]
  },
  {
   "cell_type": "code",
   "execution_count": 70,
   "id": "ae34548e-9252-492b-be70-a4bccb16a63a",
   "metadata": {},
   "outputs": [
    {
     "data": {
      "text/plain": [
       "array([[3, 3, 3, 3, 3],\n",
       "       [1, 1, 1, 1, 1],\n",
       "       [1, 1, 1, 1, 1],\n",
       "       [1, 1, 1, 1, 1],\n",
       "       [1, 1, 1, 1, 1]], dtype=int16)"
      ]
     },
     "execution_count": 70,
     "metadata": {},
     "output_type": "execute_result"
    }
   ],
   "source": [
    "m1"
   ]
  },
  {
   "cell_type": "code",
   "execution_count": 74,
   "id": "5e595223-836c-438c-b5fd-4e0576fb5990",
   "metadata": {},
   "outputs": [],
   "source": [
    "m5 = np.arange(5).reshape(5,1)"
   ]
  },
  {
   "cell_type": "code",
   "execution_count": 76,
   "id": "5ee6521a-692c-4349-afd1-5f8d3340bd0d",
   "metadata": {},
   "outputs": [
    {
     "data": {
      "text/plain": [
       "array([[0],\n",
       "       [1],\n",
       "       [2],\n",
       "       [3],\n",
       "       [4]])"
      ]
     },
     "execution_count": 76,
     "metadata": {},
     "output_type": "execute_result"
    }
   ],
   "source": [
    "m5"
   ]
  },
  {
   "cell_type": "code",
   "execution_count": 78,
   "id": "1b0c2b87-158c-431c-bea0-71dbaf866e1e",
   "metadata": {},
   "outputs": [
    {
     "data": {
      "text/plain": [
       "array([[0, 0, 0, 0, 0],\n",
       "       [1, 1, 1, 1, 1],\n",
       "       [2, 2, 2, 2, 2],\n",
       "       [3, 3, 3, 3, 3],\n",
       "       [4, 4, 4, 4, 4]])"
      ]
     },
     "execution_count": 78,
     "metadata": {},
     "output_type": "execute_result"
    }
   ],
   "source": [
    "m1 * m5"
   ]
  },
  {
   "cell_type": "code",
   "execution_count": 80,
   "id": "8fd661e2-498a-4ec9-9c78-c2f06b095d8b",
   "metadata": {},
   "outputs": [
    {
     "name": "stderr",
     "output_type": "stream",
     "text": [
      "C:\\Users\\emre_\\AppData\\Local\\Temp\\ipykernel_19100\\4178138851.py:1: RuntimeWarning: divide by zero encountered in divide\n",
      "  m1 / m5\n"
     ]
    },
    {
     "data": {
      "text/plain": [
       "array([[       inf,        inf,        inf,        inf,        inf],\n",
       "       [1.        , 1.        , 1.        , 1.        , 1.        ],\n",
       "       [0.5       , 0.5       , 0.5       , 0.5       , 0.5       ],\n",
       "       [0.33333333, 0.33333333, 0.33333333, 0.33333333, 0.33333333],\n",
       "       [0.25      , 0.25      , 0.25      , 0.25      , 0.25      ]])"
      ]
     },
     "execution_count": 80,
     "metadata": {},
     "output_type": "execute_result"
    }
   ],
   "source": [
    "m1 / m5"
   ]
  },
  {
   "cell_type": "code",
   "execution_count": 84,
   "id": "d89e5692-ac41-4a9b-aa97-748ba435839b",
   "metadata": {},
   "outputs": [],
   "source": [
    "m6 = m1 + m5"
   ]
  },
  {
   "cell_type": "code",
   "execution_count": 86,
   "id": "9afc3ac8-34a2-4824-8144-1d95d2a3eda7",
   "metadata": {},
   "outputs": [
    {
     "data": {
      "text/plain": [
       "array([[3, 3, 3, 3, 3],\n",
       "       [2, 2, 2, 2, 2],\n",
       "       [3, 3, 3, 3, 3],\n",
       "       [4, 4, 4, 4, 4],\n",
       "       [5, 5, 5, 5, 5]])"
      ]
     },
     "execution_count": 86,
     "metadata": {},
     "output_type": "execute_result"
    }
   ],
   "source": [
    "m6"
   ]
  },
  {
   "cell_type": "code",
   "execution_count": 88,
   "id": "16061676-9e8b-44be-a54d-621cbd0db8a2",
   "metadata": {},
   "outputs": [
    {
     "data": {
      "text/plain": [
       "array([[ 9,  6,  9, 12, 15],\n",
       "       [ 6,  4,  6,  8, 10],\n",
       "       [ 9,  6,  9, 12, 15],\n",
       "       [12,  8, 12, 16, 20],\n",
       "       [15, 10, 15, 20, 25]])"
      ]
     },
     "execution_count": 88,
     "metadata": {},
     "output_type": "execute_result"
    }
   ],
   "source": [
    "m6 * np.diag(m6)"
   ]
  },
  {
   "cell_type": "code",
   "execution_count": null,
   "id": "062b0810-3dc7-4da0-a573-a55a5b0ab795",
   "metadata": {},
   "outputs": [],
   "source": []
  }
 ],
 "metadata": {
  "kernelspec": {
   "display_name": "Python [conda env:base] *",
   "language": "python",
   "name": "conda-base-py"
  },
  "language_info": {
   "codemirror_mode": {
    "name": "ipython",
    "version": 3
   },
   "file_extension": ".py",
   "mimetype": "text/x-python",
   "name": "python",
   "nbconvert_exporter": "python",
   "pygments_lexer": "ipython3",
   "version": "3.12.7"
  }
 },
 "nbformat": 4,
 "nbformat_minor": 5
}
