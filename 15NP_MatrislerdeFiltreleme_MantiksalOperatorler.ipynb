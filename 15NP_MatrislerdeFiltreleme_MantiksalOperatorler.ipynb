{
 "cells": [
  {
   "cell_type": "code",
   "execution_count": 5,
   "id": "fb2b9146-a653-41b8-b0b9-48945e155356",
   "metadata": {},
   "outputs": [],
   "source": [
    "import numpy as np"
   ]
  },
  {
   "cell_type": "code",
   "execution_count": 7,
   "id": "fbf2bb90-7b73-43cd-933f-249ebab5d731",
   "metadata": {},
   "outputs": [],
   "source": [
    "matris = np.random.randint(0,10,(5,5))"
   ]
  },
  {
   "cell_type": "code",
   "execution_count": 9,
   "id": "fd707a80-cb11-40c0-a6b0-42b0f02b310c",
   "metadata": {},
   "outputs": [
    {
     "data": {
      "text/plain": [
       "array([[2, 6, 7, 0, 1],\n",
       "       [6, 6, 2, 8, 8],\n",
       "       [3, 9, 5, 2, 0],\n",
       "       [4, 2, 0, 5, 9],\n",
       "       [9, 9, 0, 5, 8]])"
      ]
     },
     "execution_count": 9,
     "metadata": {},
     "output_type": "execute_result"
    }
   ],
   "source": [
    "matris"
   ]
  },
  {
   "cell_type": "code",
   "execution_count": 11,
   "id": "f1b3006c-52bb-4bee-b359-5be52bec4473",
   "metadata": {},
   "outputs": [
    {
     "data": {
      "text/plain": [
       "array([[False,  True,  True, False, False],\n",
       "       [ True,  True, False,  True,  True],\n",
       "       [False,  True, False, False, False],\n",
       "       [False, False, False, False,  True],\n",
       "       [ True,  True, False, False,  True]])"
      ]
     },
     "execution_count": 11,
     "metadata": {},
     "output_type": "execute_result"
    }
   ],
   "source": [
    "matris > 5"
   ]
  },
  {
   "cell_type": "code",
   "execution_count": 13,
   "id": "2a6119d5-c253-43ce-a884-dd72fb26deb2",
   "metadata": {},
   "outputs": [
    {
     "data": {
      "text/plain": [
       "array([6, 7, 6, 6, 8, 8, 9, 9, 9, 9, 8])"
      ]
     },
     "execution_count": 13,
     "metadata": {},
     "output_type": "execute_result"
    }
   ],
   "source": [
    "matris[matris>5]"
   ]
  },
  {
   "cell_type": "code",
   "execution_count": 15,
   "id": "4046be9a-1868-430a-90b6-2488f37e57ee",
   "metadata": {},
   "outputs": [
    {
     "data": {
      "text/plain": [
       "array([2, 0, 1, 2, 3, 2, 0, 4, 2, 0, 0])"
      ]
     },
     "execution_count": 15,
     "metadata": {},
     "output_type": "execute_result"
    }
   ],
   "source": [
    "matris[matris<5]"
   ]
  },
  {
   "cell_type": "code",
   "execution_count": 17,
   "id": "62181679-50a9-4b69-b7d3-b6a562892f6c",
   "metadata": {},
   "outputs": [
    {
     "data": {
      "text/plain": [
       "array([5, 5, 5])"
      ]
     },
     "execution_count": 17,
     "metadata": {},
     "output_type": "execute_result"
    }
   ],
   "source": [
    "matris[matris==5]"
   ]
  },
  {
   "cell_type": "code",
   "execution_count": 19,
   "id": "e191add3-63a7-46b5-a975-3e5aaf52b2f9",
   "metadata": {},
   "outputs": [
    {
     "data": {
      "text/plain": [
       "1"
      ]
     },
     "execution_count": 19,
     "metadata": {},
     "output_type": "execute_result"
    }
   ],
   "source": [
    "matris[matris==7].size"
   ]
  },
  {
   "cell_type": "code",
   "execution_count": 21,
   "id": "3b413273-dc25-41b4-8bd3-b4ecb9ee1fec",
   "metadata": {},
   "outputs": [
    {
     "data": {
      "text/plain": [
       "array([2, 6, 0, 1, 6, 6, 2, 8, 8, 3, 9, 5, 2, 0, 4, 2, 0, 5, 9, 9, 9, 0,\n",
       "       5, 8])"
      ]
     },
     "execution_count": 21,
     "metadata": {},
     "output_type": "execute_result"
    }
   ],
   "source": [
    "matris[matris!=7]"
   ]
  },
  {
   "cell_type": "code",
   "execution_count": 23,
   "id": "b20478e4-6218-4cae-8f90-d6d474112226",
   "metadata": {},
   "outputs": [
    {
     "data": {
      "text/plain": [
       "array([[2, 6, 7, 0, 1],\n",
       "       [6, 6, 2, 8, 8],\n",
       "       [3, 9, 5, 2, 0],\n",
       "       [4, 2, 0, 5, 9],\n",
       "       [9, 9, 0, 5, 8]])"
      ]
     },
     "execution_count": 23,
     "metadata": {},
     "output_type": "execute_result"
    }
   ],
   "source": [
    "matris"
   ]
  },
  {
   "cell_type": "code",
   "execution_count": 25,
   "id": "e2e4ebac-84cf-4144-91d2-605bce4457bc",
   "metadata": {},
   "outputs": [
    {
     "data": {
      "text/plain": [
       "array([[ True,  True, False,  True, False],\n",
       "       [ True,  True,  True,  True,  True],\n",
       "       [False, False, False,  True,  True],\n",
       "       [ True,  True,  True, False, False],\n",
       "       [False, False,  True, False,  True]])"
      ]
     },
     "execution_count": 25,
     "metadata": {},
     "output_type": "execute_result"
    }
   ],
   "source": [
    "matris%2==0"
   ]
  },
  {
   "cell_type": "code",
   "execution_count": 27,
   "id": "b219c267-aa54-4124-9018-1571c7faaa5c",
   "metadata": {},
   "outputs": [
    {
     "data": {
      "text/plain": [
       "array([2, 6, 0, 6, 6, 2, 8, 8, 2, 0, 4, 2, 0, 0, 8])"
      ]
     },
     "execution_count": 27,
     "metadata": {},
     "output_type": "execute_result"
    }
   ],
   "source": [
    "matris[matris%2==0]"
   ]
  },
  {
   "cell_type": "code",
   "execution_count": 37,
   "id": "598c22dd-fbad-448c-ad10-20f7f10b7943",
   "metadata": {},
   "outputs": [],
   "source": [
    "sifir = matris != 0"
   ]
  },
  {
   "cell_type": "code",
   "execution_count": 39,
   "id": "a1bce5d1-ba5f-46c6-ad12-7731c65cda25",
   "metadata": {},
   "outputs": [],
   "source": [
    "cift = matris % 2 == 0 "
   ]
  },
  {
   "cell_type": "code",
   "execution_count": 41,
   "id": "d714319a-8409-48d8-a6b5-f37b83cef74e",
   "metadata": {},
   "outputs": [
    {
     "data": {
      "text/plain": [
       "(array([[ True,  True,  True, False,  True],\n",
       "        [ True,  True,  True,  True,  True],\n",
       "        [ True,  True,  True,  True, False],\n",
       "        [ True,  True, False,  True,  True],\n",
       "        [ True,  True, False,  True,  True]]),\n",
       " array([[ True,  True, False,  True, False],\n",
       "        [ True,  True,  True,  True,  True],\n",
       "        [False, False, False,  True,  True],\n",
       "        [ True,  True,  True, False, False],\n",
       "        [False, False,  True, False,  True]]))"
      ]
     },
     "execution_count": 41,
     "metadata": {},
     "output_type": "execute_result"
    }
   ],
   "source": [
    "sifir , cift"
   ]
  },
  {
   "cell_type": "code",
   "execution_count": 43,
   "id": "1a82d24c-6d49-4afe-98ab-acfdbde541d5",
   "metadata": {},
   "outputs": [
    {
     "data": {
      "text/plain": [
       "array([2, 6, 7, 1, 6, 6, 2, 8, 8, 3, 9, 5, 2, 4, 2, 5, 9, 9, 9, 5, 8])"
      ]
     },
     "execution_count": 43,
     "metadata": {},
     "output_type": "execute_result"
    }
   ],
   "source": [
    "matris[sifir]"
   ]
  },
  {
   "cell_type": "code",
   "execution_count": 45,
   "id": "48b57695-4686-4356-86c0-b10bf69ab642",
   "metadata": {},
   "outputs": [
    {
     "data": {
      "text/plain": [
       "array([2, 6, 6, 6, 2, 8, 8, 2, 4, 2, 8])"
      ]
     },
     "execution_count": 45,
     "metadata": {},
     "output_type": "execute_result"
    }
   ],
   "source": [
    "matris[sifir & cift]"
   ]
  },
  {
   "cell_type": "code",
   "execution_count": 47,
   "id": "44f36da6-36a8-4c0a-9687-ab135c6675cf",
   "metadata": {},
   "outputs": [],
   "source": [
    "bir = matris == 1"
   ]
  },
  {
   "cell_type": "code",
   "execution_count": 49,
   "id": "40f5bb9c-55c0-466f-b515-ea3604327bbb",
   "metadata": {},
   "outputs": [
    {
     "data": {
      "text/plain": [
       "array([2, 6, 0, 1, 6, 6, 2, 8, 8, 2, 0, 4, 2, 0, 0, 8])"
      ]
     },
     "execution_count": 49,
     "metadata": {},
     "output_type": "execute_result"
    }
   ],
   "source": [
    "matris[cift | bir]"
   ]
  },
  {
   "cell_type": "code",
   "execution_count": 55,
   "id": "e63c33ce-a820-4542-9453-8a36dc654ba1",
   "metadata": {},
   "outputs": [
    {
     "data": {
      "text/plain": [
       "array([2, 6, 1, 6, 6, 2, 8, 8, 2, 4, 2, 8])"
      ]
     },
     "execution_count": 55,
     "metadata": {},
     "output_type": "execute_result"
    }
   ],
   "source": [
    "matris[(cift&sifir) |bir]"
   ]
  },
  {
   "cell_type": "code",
   "execution_count": null,
   "id": "7f9758f3-b6be-40fe-88dd-bea52802a36d",
   "metadata": {},
   "outputs": [],
   "source": []
  }
 ],
 "metadata": {
  "kernelspec": {
   "display_name": "Python [conda env:base] *",
   "language": "python",
   "name": "conda-base-py"
  },
  "language_info": {
   "codemirror_mode": {
    "name": "ipython",
    "version": 3
   },
   "file_extension": ".py",
   "mimetype": "text/x-python",
   "name": "python",
   "nbconvert_exporter": "python",
   "pygments_lexer": "ipython3",
   "version": "3.12.7"
  }
 },
 "nbformat": 4,
 "nbformat_minor": 5
}
